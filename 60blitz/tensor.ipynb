{
 "cells": [
  {
   "cell_type": "code",
   "execution_count": 1,
   "id": "861fc0ba",
   "metadata": {},
   "outputs": [],
   "source": [
    "import torch\n",
    "import numpy as np"
   ]
  },
  {
   "cell_type": "code",
   "execution_count": 2,
   "id": "8423a7fd",
   "metadata": {},
   "outputs": [
    {
     "name": "stdout",
     "output_type": "stream",
     "text": [
      "tensor([[1, 2],\n",
      "        [3, 4]])\n"
     ]
    }
   ],
   "source": [
    "data = [[1,2], [3,4]]\n",
    "x_data = torch.tensor(data)\n",
    "print(x_data)"
   ]
  },
  {
   "cell_type": "code",
   "execution_count": 5,
   "id": "073cba08",
   "metadata": {},
   "outputs": [
    {
     "name": "stdout",
     "output_type": "stream",
     "text": [
      "tensor([[1, 2],\n",
      "        [3, 4]])\n"
     ]
    }
   ],
   "source": [
    "np_array = np.array(data)\n",
    "x_np = torch.from_numpy(np_array)\n",
    "print(x_np)"
   ]
  },
  {
   "cell_type": "code",
   "execution_count": 7,
   "id": "d045632c",
   "metadata": {},
   "outputs": [
    {
     "data": {
      "text/plain": [
       "tensor([[1, 1],\n",
       "        [1, 1]])"
      ]
     },
     "execution_count": 7,
     "metadata": {},
     "output_type": "execute_result"
    }
   ],
   "source": [
    "x_ones = torch.ones_like(x_data)\n",
    "x_ones"
   ]
  },
  {
   "cell_type": "code",
   "execution_count": 8,
   "id": "54aacb5d",
   "metadata": {},
   "outputs": [
    {
     "data": {
      "text/plain": [
       "tensor([[0.1378, 0.5413],\n",
       "        [0.4013, 0.0580]])"
      ]
     },
     "execution_count": 8,
     "metadata": {},
     "output_type": "execute_result"
    }
   ],
   "source": [
    "x_rand = torch.rand_like(x_data, dtype=torch.float)\n",
    "x_rand"
   ]
  },
  {
   "cell_type": "code",
   "execution_count": 10,
   "id": "15119ff2",
   "metadata": {},
   "outputs": [
    {
     "data": {
      "text/plain": [
       "tensor([[0.4096, 0.0055, 0.8532, 0.4470],\n",
       "        [0.9545, 0.2710, 0.5969, 0.9256],\n",
       "        [0.9954, 0.3240, 0.0257, 0.4634]])"
      ]
     },
     "execution_count": 10,
     "metadata": {},
     "output_type": "execute_result"
    }
   ],
   "source": [
    "shape = (3, 4)\n",
    "\n",
    "rand_tensor = torch.rand(shape)\n",
    "rand_tensor"
   ]
  },
  {
   "cell_type": "code",
   "execution_count": 18,
   "id": "fad871be",
   "metadata": {},
   "outputs": [
    {
     "data": {
      "text/plain": [
       "tensor([[[1., 1., 1.],\n",
       "         [1., 1., 1.],\n",
       "         [1., 1., 1.],\n",
       "         [1., 1., 1.]],\n",
       "\n",
       "        [[1., 1., 1.],\n",
       "         [1., 1., 1.],\n",
       "         [1., 1., 1.],\n",
       "         [1., 1., 1.]],\n",
       "\n",
       "        [[1., 1., 1.],\n",
       "         [1., 0., 0.],\n",
       "         [1., 0., 0.],\n",
       "         [1., 1., 1.]],\n",
       "\n",
       "        [[1., 1., 1.],\n",
       "         [1., 0., 0.],\n",
       "         [1., 0., 0.],\n",
       "         [1., 1., 1.]]])"
      ]
     },
     "execution_count": 18,
     "metadata": {},
     "output_type": "execute_result"
    }
   ],
   "source": [
    "tensor = torch.ones((4,4,3))\n",
    "tensor[2:, 1:3, 1:] = 0\n",
    "tensor"
   ]
  },
  {
   "cell_type": "code",
   "execution_count": 19,
   "id": "614047f2",
   "metadata": {},
   "outputs": [
    {
     "data": {
      "text/plain": [
       "tensor([[[0.5008, 0.8233, 0.4533],\n",
       "         [0.8107, 0.7287, 0.2984],\n",
       "         [0.3614, 0.2941, 0.4944]],\n",
       "\n",
       "        [[0.3214, 0.1175, 0.8728],\n",
       "         [0.1253, 0.1316, 0.2517],\n",
       "         [0.6860, 0.1937, 0.8081]],\n",
       "\n",
       "        [[0.7404, 0.4665, 0.3880],\n",
       "         [0.8124, 0.5077, 0.4865],\n",
       "         [0.1565, 0.3470, 0.8765]]])"
      ]
     },
     "execution_count": 19,
     "metadata": {},
     "output_type": "execute_result"
    }
   ],
   "source": [
    "shape = (3,3)\n",
    "ran1 = torch.rand(shape)\n",
    "ran2 = torch.rand(shape)\n",
    "ran3 = torch.rand(shape)\n",
    "\n",
    "torch.stack([ran1, ran2, ran3])"
   ]
  },
  {
   "cell_type": "code",
   "execution_count": 22,
   "id": "210190d1",
   "metadata": {},
   "outputs": [
    {
     "data": {
      "text/plain": [
       "tensor([[0.5008, 0.8233, 0.4533, 0.3214, 0.1175, 0.8728, 0.7404, 0.4665, 0.3880],\n",
       "        [0.8107, 0.7287, 0.2984, 0.1253, 0.1316, 0.2517, 0.8124, 0.5077, 0.4865],\n",
       "        [0.3614, 0.2941, 0.4944, 0.6860, 0.1937, 0.8081, 0.1565, 0.3470, 0.8765]])"
      ]
     },
     "execution_count": 22,
     "metadata": {},
     "output_type": "execute_result"
    }
   ],
   "source": [
    "torch.cat([ran1, ran2, ran3], axis=-1)"
   ]
  },
  {
   "cell_type": "code",
   "execution_count": 23,
   "id": "1b29f979",
   "metadata": {},
   "outputs": [
    {
     "data": {
      "text/plain": [
       "tensor([[0.5008, 0.8233, 0.4533],\n",
       "        [0.8107, 0.7287, 0.2984],\n",
       "        [0.3614, 0.2941, 0.4944],\n",
       "        [0.3214, 0.1175, 0.8728],\n",
       "        [0.1253, 0.1316, 0.2517],\n",
       "        [0.6860, 0.1937, 0.8081],\n",
       "        [0.7404, 0.4665, 0.3880],\n",
       "        [0.8124, 0.5077, 0.4865],\n",
       "        [0.1565, 0.3470, 0.8765]])"
      ]
     },
     "execution_count": 23,
     "metadata": {},
     "output_type": "execute_result"
    }
   ],
   "source": [
    "torch.cat([ran1, ran2, ran3])"
   ]
  }
 ],
 "metadata": {
  "kernelspec": {
   "display_name": "Python 3 (ipykernel)",
   "language": "python",
   "name": "python3"
  },
  "language_info": {
   "codemirror_mode": {
    "name": "ipython",
    "version": 3
   },
   "file_extension": ".py",
   "mimetype": "text/x-python",
   "name": "python",
   "nbconvert_exporter": "python",
   "pygments_lexer": "ipython3",
   "version": "3.8.10"
  }
 },
 "nbformat": 4,
 "nbformat_minor": 5
}
